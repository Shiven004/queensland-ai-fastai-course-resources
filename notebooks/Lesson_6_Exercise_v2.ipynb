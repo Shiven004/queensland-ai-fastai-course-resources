{
  "nbformat": 4,
  "nbformat_minor": 0,
  "metadata": {
    "colab": {
      "name": "Lesson 6_Exercise_v2.ipynb",
      "provenance": [],
      "collapsed_sections": []
    },
    "kernelspec": {
      "name": "python3",
      "display_name": "Python 3"
    },
    "language_info": {
      "name": "python"
    }
  },
  "cells": [
    {
      "cell_type": "code",
      "metadata": {
        "id": "wv6KFf1-4GpO",
        "colab": {
          "base_uri": "https://localhost:8080/"
        },
        "outputId": "426b2a89-f82a-4304-e581-94eeda6c6507"
      },
      "source": [
        "'''\n",
        "    Author: Huyen Nguyen\n",
        "    Title: Qld AI Lesson 6 Exercise - 6 July 2021\n",
        "    Date created: 30/06/2021\n",
        "'''\n",
        "!pip install -Uqq fastbook\n",
        "import fastbook\n",
        "from fastbook import *"
      ],
      "execution_count": 1,
      "outputs": [
        {
          "output_type": "stream",
          "text": [
            "\u001b[K     |████████████████████████████████| 727kB 7.5MB/s \n",
            "\u001b[K     |████████████████████████████████| 51kB 5.9MB/s \n",
            "\u001b[K     |████████████████████████████████| 1.2MB 16.2MB/s \n",
            "\u001b[K     |████████████████████████████████| 194kB 36.1MB/s \n",
            "\u001b[K     |████████████████████████████████| 61kB 7.8MB/s \n",
            "\u001b[K     |████████████████████████████████| 61kB 8.2MB/s \n",
            "\u001b[?25h"
          ],
          "name": "stdout"
        }
      ]
    },
    {
      "cell_type": "code",
      "metadata": {
        "id": "zHR-6lv16RGI"
      },
      "source": [
        "from fastai.collab import *\n",
        "from fastai.tabular.all import *\n"
      ],
      "execution_count": 2,
      "outputs": []
    },
    {
      "cell_type": "code",
      "metadata": {
        "id": "tnGLFGyir2R_",
        "colab": {
          "base_uri": "https://localhost:8080/",
          "height": 739
        },
        "outputId": "495d23a8-b70b-4686-c8d9-34196580fe2a"
      },
      "source": [
        "df = pd.read_excel('hobbies.xlsx')\n",
        "df"
      ],
      "execution_count": 3,
      "outputs": [
        {
          "output_type": "execute_result",
          "data": {
            "text/html": [
              "<div>\n",
              "<style scoped>\n",
              "    .dataframe tbody tr th:only-of-type {\n",
              "        vertical-align: middle;\n",
              "    }\n",
              "\n",
              "    .dataframe tbody tr th {\n",
              "        vertical-align: top;\n",
              "    }\n",
              "\n",
              "    .dataframe thead th {\n",
              "        text-align: right;\n",
              "    }\n",
              "</style>\n",
              "<table border=\"1\" class=\"dataframe\">\n",
              "  <thead>\n",
              "    <tr style=\"text-align: right;\">\n",
              "      <th></th>\n",
              "      <th>hobby</th>\n",
              "      <th>Dewsy</th>\n",
              "      <th>Huyen</th>\n",
              "      <th>Neil</th>\n",
              "      <th>Moji</th>\n",
              "      <th>Utsav</th>\n",
              "      <th>Behi</th>\n",
              "      <th>Bob</th>\n",
              "      <th>Suzannah</th>\n",
              "      <th>Pranjal</th>\n",
              "      <th>Josh</th>\n",
              "      <th>Steven</th>\n",
              "      <th>Bilal</th>\n",
              "      <th>Sam</th>\n",
              "      <th>Michael</th>\n",
              "      <th>Mario</th>\n",
              "      <th>Elliot</th>\n",
              "      <th>Jens</th>\n",
              "      <th>Jan</th>\n",
              "      <th>Jorge</th>\n",
              "      <th>Mac</th>\n",
              "      <th>Arun</th>\n",
              "      <th>Owen</th>\n",
              "      <th>Mario.1</th>\n",
              "      <th>Tracy</th>\n",
              "      <th>anas</th>\n",
              "      <th>Stan</th>\n",
              "      <th>Sean</th>\n",
              "    </tr>\n",
              "  </thead>\n",
              "  <tbody>\n",
              "    <tr>\n",
              "      <th>0</th>\n",
              "      <td>Studying fastai</td>\n",
              "      <td>5.0</td>\n",
              "      <td>5.0</td>\n",
              "      <td>3.0</td>\n",
              "      <td>3.0</td>\n",
              "      <td>5.0</td>\n",
              "      <td>5.0</td>\n",
              "      <td>5.0</td>\n",
              "      <td>5.0</td>\n",
              "      <td>3.0</td>\n",
              "      <td>4.0</td>\n",
              "      <td>3.0</td>\n",
              "      <td>5.0</td>\n",
              "      <td>4.0</td>\n",
              "      <td>4.0</td>\n",
              "      <td>4.0</td>\n",
              "      <td>5.0</td>\n",
              "      <td>2.0</td>\n",
              "      <td>4.0</td>\n",
              "      <td>3.0</td>\n",
              "      <td>5.0</td>\n",
              "      <td>5.0</td>\n",
              "      <td>5.0</td>\n",
              "      <td>3.0</td>\n",
              "      <td>5.0</td>\n",
              "      <td>3.0</td>\n",
              "      <td>4.0</td>\n",
              "      <td>5</td>\n",
              "    </tr>\n",
              "    <tr>\n",
              "      <th>1</th>\n",
              "      <td>Music</td>\n",
              "      <td>5.0</td>\n",
              "      <td>4.0</td>\n",
              "      <td>3.0</td>\n",
              "      <td>5.0</td>\n",
              "      <td>5.0</td>\n",
              "      <td>NaN</td>\n",
              "      <td>5.0</td>\n",
              "      <td>5.0</td>\n",
              "      <td>5.0</td>\n",
              "      <td>5.0</td>\n",
              "      <td>5.0</td>\n",
              "      <td>1.0</td>\n",
              "      <td>3.0</td>\n",
              "      <td>5.0</td>\n",
              "      <td>5.0</td>\n",
              "      <td>5.0</td>\n",
              "      <td>4.0</td>\n",
              "      <td>4.0</td>\n",
              "      <td>4.0</td>\n",
              "      <td>2.0</td>\n",
              "      <td>2.0</td>\n",
              "      <td>2.0</td>\n",
              "      <td>4.0</td>\n",
              "      <td>3.0</td>\n",
              "      <td>5.0</td>\n",
              "      <td>5.0</td>\n",
              "      <td>5</td>\n",
              "    </tr>\n",
              "    <tr>\n",
              "      <th>2</th>\n",
              "      <td>Hiking</td>\n",
              "      <td>5.0</td>\n",
              "      <td>3.0</td>\n",
              "      <td>5.0</td>\n",
              "      <td>5.0</td>\n",
              "      <td>2.0</td>\n",
              "      <td>NaN</td>\n",
              "      <td>2.0</td>\n",
              "      <td>4.0</td>\n",
              "      <td>5.0</td>\n",
              "      <td>4.0</td>\n",
              "      <td>2.0</td>\n",
              "      <td>5.0</td>\n",
              "      <td>3.0</td>\n",
              "      <td>3.0</td>\n",
              "      <td>3.0</td>\n",
              "      <td>5.0</td>\n",
              "      <td>4.0</td>\n",
              "      <td>5.0</td>\n",
              "      <td>4.0</td>\n",
              "      <td>5.0</td>\n",
              "      <td>NaN</td>\n",
              "      <td>3.0</td>\n",
              "      <td>3.0</td>\n",
              "      <td>4.0</td>\n",
              "      <td>5.0</td>\n",
              "      <td>5.0</td>\n",
              "      <td>5</td>\n",
              "    </tr>\n",
              "    <tr>\n",
              "      <th>3</th>\n",
              "      <td>Cooking</td>\n",
              "      <td>4.0</td>\n",
              "      <td>2.0</td>\n",
              "      <td>2.0</td>\n",
              "      <td>2.0</td>\n",
              "      <td>2.0</td>\n",
              "      <td>NaN</td>\n",
              "      <td>2.0</td>\n",
              "      <td>4.0</td>\n",
              "      <td>4.0</td>\n",
              "      <td>3.0</td>\n",
              "      <td>3.0</td>\n",
              "      <td>3.0</td>\n",
              "      <td>3.0</td>\n",
              "      <td>2.0</td>\n",
              "      <td>3.0</td>\n",
              "      <td>2.0</td>\n",
              "      <td>3.0</td>\n",
              "      <td>2.0</td>\n",
              "      <td>2.0</td>\n",
              "      <td>3.0</td>\n",
              "      <td>3.0</td>\n",
              "      <td>1.0</td>\n",
              "      <td>3.0</td>\n",
              "      <td>4.0</td>\n",
              "      <td>0.0</td>\n",
              "      <td>2.0</td>\n",
              "      <td>5</td>\n",
              "    </tr>\n",
              "    <tr>\n",
              "      <th>4</th>\n",
              "      <td>Friends</td>\n",
              "      <td>2.0</td>\n",
              "      <td>4.0</td>\n",
              "      <td>4.0</td>\n",
              "      <td>3.0</td>\n",
              "      <td>5.0</td>\n",
              "      <td>NaN</td>\n",
              "      <td>4.0</td>\n",
              "      <td>4.0</td>\n",
              "      <td>5.0</td>\n",
              "      <td>2.0</td>\n",
              "      <td>5.0</td>\n",
              "      <td>4.0</td>\n",
              "      <td>4.0</td>\n",
              "      <td>4.0</td>\n",
              "      <td>NaN</td>\n",
              "      <td>5.0</td>\n",
              "      <td>5.0</td>\n",
              "      <td>5.0</td>\n",
              "      <td>5.0</td>\n",
              "      <td>4.0</td>\n",
              "      <td>4.0</td>\n",
              "      <td>3.0</td>\n",
              "      <td>5.0</td>\n",
              "      <td>4.0</td>\n",
              "      <td>5.0</td>\n",
              "      <td>4.0</td>\n",
              "      <td>5</td>\n",
              "    </tr>\n",
              "    <tr>\n",
              "      <th>5</th>\n",
              "      <td>Board games</td>\n",
              "      <td>4.0</td>\n",
              "      <td>5.0</td>\n",
              "      <td>2.0</td>\n",
              "      <td>1.0</td>\n",
              "      <td>2.0</td>\n",
              "      <td>1.0</td>\n",
              "      <td>3.0</td>\n",
              "      <td>4.0</td>\n",
              "      <td>1.0</td>\n",
              "      <td>1.0</td>\n",
              "      <td>3.0</td>\n",
              "      <td>1.0</td>\n",
              "      <td>4.0</td>\n",
              "      <td>5.0</td>\n",
              "      <td>1.0</td>\n",
              "      <td>3.0</td>\n",
              "      <td>1.0</td>\n",
              "      <td>3.0</td>\n",
              "      <td>3.0</td>\n",
              "      <td>4.0</td>\n",
              "      <td>NaN</td>\n",
              "      <td>1.0</td>\n",
              "      <td>3.0</td>\n",
              "      <td>4.0</td>\n",
              "      <td>2.0</td>\n",
              "      <td>3.0</td>\n",
              "      <td>0</td>\n",
              "    </tr>\n",
              "    <tr>\n",
              "      <th>6</th>\n",
              "      <td>Swimming</td>\n",
              "      <td>2.0</td>\n",
              "      <td>NaN</td>\n",
              "      <td>2.0</td>\n",
              "      <td>3.0</td>\n",
              "      <td>2.0</td>\n",
              "      <td>4.0</td>\n",
              "      <td>1.0</td>\n",
              "      <td>2.0</td>\n",
              "      <td>4.0</td>\n",
              "      <td>2.0</td>\n",
              "      <td>5.0</td>\n",
              "      <td>3.0</td>\n",
              "      <td>3.0</td>\n",
              "      <td>2.0</td>\n",
              "      <td>1.0</td>\n",
              "      <td>4.0</td>\n",
              "      <td>5.0</td>\n",
              "      <td>3.0</td>\n",
              "      <td>2.0</td>\n",
              "      <td>3.0</td>\n",
              "      <td>3.0</td>\n",
              "      <td>3.0</td>\n",
              "      <td>3.0</td>\n",
              "      <td>4.0</td>\n",
              "      <td>0.0</td>\n",
              "      <td>3.0</td>\n",
              "      <td>5</td>\n",
              "    </tr>\n",
              "    <tr>\n",
              "      <th>7</th>\n",
              "      <td>Surfing</td>\n",
              "      <td>0.0</td>\n",
              "      <td>NaN</td>\n",
              "      <td>2.0</td>\n",
              "      <td>3.0</td>\n",
              "      <td>0.0</td>\n",
              "      <td>1.0</td>\n",
              "      <td>0.0</td>\n",
              "      <td>1.0</td>\n",
              "      <td>3.0</td>\n",
              "      <td>1.0</td>\n",
              "      <td>1.0</td>\n",
              "      <td>2.0</td>\n",
              "      <td>NaN</td>\n",
              "      <td>1.0</td>\n",
              "      <td>0.0</td>\n",
              "      <td>2.0</td>\n",
              "      <td>2.0</td>\n",
              "      <td>2.0</td>\n",
              "      <td>1.0</td>\n",
              "      <td>3.0</td>\n",
              "      <td>NaN</td>\n",
              "      <td>1.0</td>\n",
              "      <td>NaN</td>\n",
              "      <td>2.0</td>\n",
              "      <td>5.0</td>\n",
              "      <td>4.0</td>\n",
              "      <td>5</td>\n",
              "    </tr>\n",
              "    <tr>\n",
              "      <th>8</th>\n",
              "      <td>Yoga</td>\n",
              "      <td>0.0</td>\n",
              "      <td>2.0</td>\n",
              "      <td>3.0</td>\n",
              "      <td>3.0</td>\n",
              "      <td>1.0</td>\n",
              "      <td>NaN</td>\n",
              "      <td>1.0</td>\n",
              "      <td>4.0</td>\n",
              "      <td>3.0</td>\n",
              "      <td>1.0</td>\n",
              "      <td>1.0</td>\n",
              "      <td>4.0</td>\n",
              "      <td>NaN</td>\n",
              "      <td>1.0</td>\n",
              "      <td>0.0</td>\n",
              "      <td>5.0</td>\n",
              "      <td>3.0</td>\n",
              "      <td>1.0</td>\n",
              "      <td>1.0</td>\n",
              "      <td>1.0</td>\n",
              "      <td>5.0</td>\n",
              "      <td>1.0</td>\n",
              "      <td>NaN</td>\n",
              "      <td>4.0</td>\n",
              "      <td>0.0</td>\n",
              "      <td>4.0</td>\n",
              "      <td>0</td>\n",
              "    </tr>\n",
              "    <tr>\n",
              "      <th>9</th>\n",
              "      <td>Reading</td>\n",
              "      <td>2.0</td>\n",
              "      <td>5.0</td>\n",
              "      <td>4.0</td>\n",
              "      <td>5.0</td>\n",
              "      <td>4.0</td>\n",
              "      <td>NaN</td>\n",
              "      <td>4.0</td>\n",
              "      <td>4.0</td>\n",
              "      <td>5.0</td>\n",
              "      <td>3.0</td>\n",
              "      <td>2.0</td>\n",
              "      <td>5.0</td>\n",
              "      <td>4.0</td>\n",
              "      <td>3.0</td>\n",
              "      <td>4.0</td>\n",
              "      <td>5.0</td>\n",
              "      <td>5.0</td>\n",
              "      <td>4.0</td>\n",
              "      <td>3.0</td>\n",
              "      <td>4.0</td>\n",
              "      <td>NaN</td>\n",
              "      <td>5.0</td>\n",
              "      <td>4.0</td>\n",
              "      <td>3.0</td>\n",
              "      <td>NaN</td>\n",
              "      <td>5.0</td>\n",
              "      <td>5</td>\n",
              "    </tr>\n",
              "    <tr>\n",
              "      <th>10</th>\n",
              "      <td>Movies</td>\n",
              "      <td>3.0</td>\n",
              "      <td>3.0</td>\n",
              "      <td>3.0</td>\n",
              "      <td>4.0</td>\n",
              "      <td>4.0</td>\n",
              "      <td>NaN</td>\n",
              "      <td>4.0</td>\n",
              "      <td>2.0</td>\n",
              "      <td>5.0</td>\n",
              "      <td>2.0</td>\n",
              "      <td>5.0</td>\n",
              "      <td>4.0</td>\n",
              "      <td>4.0</td>\n",
              "      <td>4.0</td>\n",
              "      <td>4.0</td>\n",
              "      <td>3.0</td>\n",
              "      <td>3.0</td>\n",
              "      <td>4.0</td>\n",
              "      <td>5.0</td>\n",
              "      <td>3.0</td>\n",
              "      <td>NaN</td>\n",
              "      <td>3.0</td>\n",
              "      <td>5.0</td>\n",
              "      <td>2.0</td>\n",
              "      <td>NaN</td>\n",
              "      <td>1.0</td>\n",
              "      <td>5</td>\n",
              "    </tr>\n",
              "    <tr>\n",
              "      <th>11</th>\n",
              "      <td>Running</td>\n",
              "      <td>2.0</td>\n",
              "      <td>1.0</td>\n",
              "      <td>2.0</td>\n",
              "      <td>4.0</td>\n",
              "      <td>3.0</td>\n",
              "      <td>NaN</td>\n",
              "      <td>2.0</td>\n",
              "      <td>1.0</td>\n",
              "      <td>5.0</td>\n",
              "      <td>2.0</td>\n",
              "      <td>3.0</td>\n",
              "      <td>5.0</td>\n",
              "      <td>2.0</td>\n",
              "      <td>2.0</td>\n",
              "      <td>3.0</td>\n",
              "      <td>4.0</td>\n",
              "      <td>5.0</td>\n",
              "      <td>4.0</td>\n",
              "      <td>5.0</td>\n",
              "      <td>3.0</td>\n",
              "      <td>NaN</td>\n",
              "      <td>2.0</td>\n",
              "      <td>4.0</td>\n",
              "      <td>2.0</td>\n",
              "      <td>NaN</td>\n",
              "      <td>2.0</td>\n",
              "      <td>5</td>\n",
              "    </tr>\n",
              "    <tr>\n",
              "      <th>12</th>\n",
              "      <td>Art and craft</td>\n",
              "      <td>1.0</td>\n",
              "      <td>3.0</td>\n",
              "      <td>2.0</td>\n",
              "      <td>1.0</td>\n",
              "      <td>3.0</td>\n",
              "      <td>NaN</td>\n",
              "      <td>3.0</td>\n",
              "      <td>2.0</td>\n",
              "      <td>5.0</td>\n",
              "      <td>1.0</td>\n",
              "      <td>1.0</td>\n",
              "      <td>1.0</td>\n",
              "      <td>3.0</td>\n",
              "      <td>2.0</td>\n",
              "      <td>1.0</td>\n",
              "      <td>2.0</td>\n",
              "      <td>2.0</td>\n",
              "      <td>2.0</td>\n",
              "      <td>1.0</td>\n",
              "      <td>3.0</td>\n",
              "      <td>NaN</td>\n",
              "      <td>3.0</td>\n",
              "      <td>3.0</td>\n",
              "      <td>5.0</td>\n",
              "      <td>NaN</td>\n",
              "      <td>1.0</td>\n",
              "      <td>0</td>\n",
              "    </tr>\n",
              "    <tr>\n",
              "      <th>13</th>\n",
              "      <td>Drinking</td>\n",
              "      <td>1.0</td>\n",
              "      <td>1.0</td>\n",
              "      <td>NaN</td>\n",
              "      <td>3.0</td>\n",
              "      <td>3.0</td>\n",
              "      <td>NaN</td>\n",
              "      <td>2.0</td>\n",
              "      <td>1.0</td>\n",
              "      <td>3.0</td>\n",
              "      <td>1.0</td>\n",
              "      <td>3.0</td>\n",
              "      <td>1.0</td>\n",
              "      <td>3.0</td>\n",
              "      <td>3.0</td>\n",
              "      <td>3.0</td>\n",
              "      <td>2.0</td>\n",
              "      <td>0.0</td>\n",
              "      <td>3.0</td>\n",
              "      <td>3.0</td>\n",
              "      <td>4.0</td>\n",
              "      <td>NaN</td>\n",
              "      <td>1.0</td>\n",
              "      <td>3.0</td>\n",
              "      <td>3.0</td>\n",
              "      <td>NaN</td>\n",
              "      <td>3.0</td>\n",
              "      <td>5</td>\n",
              "    </tr>\n",
              "    <tr>\n",
              "      <th>14</th>\n",
              "      <td>Volunteering</td>\n",
              "      <td>3.0</td>\n",
              "      <td>4.0</td>\n",
              "      <td>NaN</td>\n",
              "      <td>3.0</td>\n",
              "      <td>3.0</td>\n",
              "      <td>NaN</td>\n",
              "      <td>NaN</td>\n",
              "      <td>3.0</td>\n",
              "      <td>5.0</td>\n",
              "      <td>3.0</td>\n",
              "      <td>3.0</td>\n",
              "      <td>3.0</td>\n",
              "      <td>NaN</td>\n",
              "      <td>2.0</td>\n",
              "      <td>1.0</td>\n",
              "      <td>4.0</td>\n",
              "      <td>4.0</td>\n",
              "      <td>2.0</td>\n",
              "      <td>3.0</td>\n",
              "      <td>4.0</td>\n",
              "      <td>NaN</td>\n",
              "      <td>2.0</td>\n",
              "      <td>3.0</td>\n",
              "      <td>4.0</td>\n",
              "      <td>NaN</td>\n",
              "      <td>4.0</td>\n",
              "      <td>0</td>\n",
              "    </tr>\n",
              "    <tr>\n",
              "      <th>15</th>\n",
              "      <td>Travel</td>\n",
              "      <td>2.0</td>\n",
              "      <td>4.0</td>\n",
              "      <td>4.0</td>\n",
              "      <td>4.0</td>\n",
              "      <td>4.0</td>\n",
              "      <td>NaN</td>\n",
              "      <td>NaN</td>\n",
              "      <td>4.0</td>\n",
              "      <td>5.0</td>\n",
              "      <td>3.0</td>\n",
              "      <td>5.0</td>\n",
              "      <td>2.0</td>\n",
              "      <td>4.0</td>\n",
              "      <td>5.0</td>\n",
              "      <td>4.0</td>\n",
              "      <td>5.0</td>\n",
              "      <td>5.0</td>\n",
              "      <td>5.0</td>\n",
              "      <td>4.0</td>\n",
              "      <td>10.0</td>\n",
              "      <td>NaN</td>\n",
              "      <td>3.0</td>\n",
              "      <td>4.0</td>\n",
              "      <td>5.0</td>\n",
              "      <td>NaN</td>\n",
              "      <td>5.0</td>\n",
              "      <td>5</td>\n",
              "    </tr>\n",
              "    <tr>\n",
              "      <th>16</th>\n",
              "      <td>Shopping</td>\n",
              "      <td>2.0</td>\n",
              "      <td>1.0</td>\n",
              "      <td>3.0</td>\n",
              "      <td>1.0</td>\n",
              "      <td>2.0</td>\n",
              "      <td>NaN</td>\n",
              "      <td>NaN</td>\n",
              "      <td>2.0</td>\n",
              "      <td>1.0</td>\n",
              "      <td>2.0</td>\n",
              "      <td>5.0</td>\n",
              "      <td>2.0</td>\n",
              "      <td>1.0</td>\n",
              "      <td>2.0</td>\n",
              "      <td>2.0</td>\n",
              "      <td>1.0</td>\n",
              "      <td>2.0</td>\n",
              "      <td>2.0</td>\n",
              "      <td>2.0</td>\n",
              "      <td>3.0</td>\n",
              "      <td>NaN</td>\n",
              "      <td>3.0</td>\n",
              "      <td>2.0</td>\n",
              "      <td>4.0</td>\n",
              "      <td>NaN</td>\n",
              "      <td>1.0</td>\n",
              "      <td>0</td>\n",
              "    </tr>\n",
              "    <tr>\n",
              "      <th>17</th>\n",
              "      <td>Dancing</td>\n",
              "      <td>1.0</td>\n",
              "      <td>3.0</td>\n",
              "      <td>5.0</td>\n",
              "      <td>3.0</td>\n",
              "      <td>1.0</td>\n",
              "      <td>NaN</td>\n",
              "      <td>NaN</td>\n",
              "      <td>2.0</td>\n",
              "      <td>4.0</td>\n",
              "      <td>1.0</td>\n",
              "      <td>1.0</td>\n",
              "      <td>1.0</td>\n",
              "      <td>2.0</td>\n",
              "      <td>3.0</td>\n",
              "      <td>3.0</td>\n",
              "      <td>4.0</td>\n",
              "      <td>1.0</td>\n",
              "      <td>1.0</td>\n",
              "      <td>4.0</td>\n",
              "      <td>2.0</td>\n",
              "      <td>1.0</td>\n",
              "      <td>1.0</td>\n",
              "      <td>3.0</td>\n",
              "      <td>5.0</td>\n",
              "      <td>NaN</td>\n",
              "      <td>3.0</td>\n",
              "      <td>0</td>\n",
              "    </tr>\n",
              "    <tr>\n",
              "      <th>18</th>\n",
              "      <td>Sports</td>\n",
              "      <td>1.0</td>\n",
              "      <td>3.0</td>\n",
              "      <td>3.0</td>\n",
              "      <td>5.0</td>\n",
              "      <td>2.0</td>\n",
              "      <td>NaN</td>\n",
              "      <td>NaN</td>\n",
              "      <td>3.0</td>\n",
              "      <td>3.0</td>\n",
              "      <td>5.0</td>\n",
              "      <td>5.0</td>\n",
              "      <td>5.0</td>\n",
              "      <td>2.0</td>\n",
              "      <td>5.0</td>\n",
              "      <td>4.0</td>\n",
              "      <td>5.0</td>\n",
              "      <td>4.0</td>\n",
              "      <td>5.0</td>\n",
              "      <td>5.0</td>\n",
              "      <td>4.0</td>\n",
              "      <td>4.0</td>\n",
              "      <td>1.0</td>\n",
              "      <td>3.0</td>\n",
              "      <td>4.0</td>\n",
              "      <td>NaN</td>\n",
              "      <td>4.0</td>\n",
              "      <td>5</td>\n",
              "    </tr>\n",
              "    <tr>\n",
              "      <th>19</th>\n",
              "      <td>Computer Games</td>\n",
              "      <td>4.0</td>\n",
              "      <td>NaN</td>\n",
              "      <td>5.0</td>\n",
              "      <td>4.0</td>\n",
              "      <td>4.0</td>\n",
              "      <td>NaN</td>\n",
              "      <td>NaN</td>\n",
              "      <td>4.0</td>\n",
              "      <td>2.0</td>\n",
              "      <td>1.0</td>\n",
              "      <td>5.0</td>\n",
              "      <td>1.0</td>\n",
              "      <td>3.0</td>\n",
              "      <td>4.0</td>\n",
              "      <td>3.0</td>\n",
              "      <td>4.0</td>\n",
              "      <td>0.0</td>\n",
              "      <td>5.0</td>\n",
              "      <td>4.0</td>\n",
              "      <td>3.0</td>\n",
              "      <td>NaN</td>\n",
              "      <td>5.0</td>\n",
              "      <td>3.0</td>\n",
              "      <td>2.0</td>\n",
              "      <td>NaN</td>\n",
              "      <td>2.0</td>\n",
              "      <td>5</td>\n",
              "    </tr>\n",
              "    <tr>\n",
              "      <th>20</th>\n",
              "      <td>NaN</td>\n",
              "      <td>NaN</td>\n",
              "      <td>NaN</td>\n",
              "      <td>NaN</td>\n",
              "      <td>NaN</td>\n",
              "      <td>NaN</td>\n",
              "      <td>NaN</td>\n",
              "      <td>NaN</td>\n",
              "      <td>NaN</td>\n",
              "      <td>NaN</td>\n",
              "      <td>NaN</td>\n",
              "      <td>NaN</td>\n",
              "      <td>NaN</td>\n",
              "      <td>NaN</td>\n",
              "      <td>NaN</td>\n",
              "      <td>NaN</td>\n",
              "      <td>NaN</td>\n",
              "      <td>NaN</td>\n",
              "      <td>NaN</td>\n",
              "      <td>NaN</td>\n",
              "      <td>NaN</td>\n",
              "      <td>NaN</td>\n",
              "      <td>NaN</td>\n",
              "      <td>NaN</td>\n",
              "      <td>NaN</td>\n",
              "      <td>NaN</td>\n",
              "      <td>NaN</td>\n",
              "      <td>5</td>\n",
              "    </tr>\n",
              "  </tbody>\n",
              "</table>\n",
              "</div>"
            ],
            "text/plain": [
              "              hobby  Dewsy  Huyen  Neil  Moji  Utsav  Behi  Bob  Suzannah  \\\n",
              "0   Studying fastai    5.0    5.0   3.0   3.0    5.0   5.0  5.0       5.0   \n",
              "1             Music    5.0    4.0   3.0   5.0    5.0   NaN  5.0       5.0   \n",
              "2            Hiking    5.0    3.0   5.0   5.0    2.0   NaN  2.0       4.0   \n",
              "3           Cooking    4.0    2.0   2.0   2.0    2.0   NaN  2.0       4.0   \n",
              "4           Friends    2.0    4.0   4.0   3.0    5.0   NaN  4.0       4.0   \n",
              "5       Board games    4.0    5.0   2.0   1.0    2.0   1.0  3.0       4.0   \n",
              "6          Swimming    2.0    NaN   2.0   3.0    2.0   4.0  1.0       2.0   \n",
              "7           Surfing    0.0    NaN   2.0   3.0    0.0   1.0  0.0       1.0   \n",
              "8              Yoga    0.0    2.0   3.0   3.0    1.0   NaN  1.0       4.0   \n",
              "9           Reading    2.0    5.0   4.0   5.0    4.0   NaN  4.0       4.0   \n",
              "10           Movies    3.0    3.0   3.0   4.0    4.0   NaN  4.0       2.0   \n",
              "11          Running    2.0    1.0   2.0   4.0    3.0   NaN  2.0       1.0   \n",
              "12    Art and craft    1.0    3.0   2.0   1.0    3.0   NaN  3.0       2.0   \n",
              "13         Drinking    1.0    1.0   NaN   3.0    3.0   NaN  2.0       1.0   \n",
              "14     Volunteering    3.0    4.0   NaN   3.0    3.0   NaN  NaN       3.0   \n",
              "15           Travel    2.0    4.0   4.0   4.0    4.0   NaN  NaN       4.0   \n",
              "16         Shopping    2.0    1.0   3.0   1.0    2.0   NaN  NaN       2.0   \n",
              "17          Dancing    1.0    3.0   5.0   3.0    1.0   NaN  NaN       2.0   \n",
              "18           Sports    1.0    3.0   3.0   5.0    2.0   NaN  NaN       3.0   \n",
              "19   Computer Games    4.0    NaN   5.0   4.0    4.0   NaN  NaN       4.0   \n",
              "20              NaN    NaN    NaN   NaN   NaN    NaN   NaN  NaN       NaN   \n",
              "\n",
              "    Pranjal  Josh  Steven  Bilal  Sam  Michael  Mario  Elliot  Jens  Jan  \\\n",
              "0       3.0   4.0     3.0    5.0  4.0      4.0    4.0     5.0   2.0  4.0   \n",
              "1       5.0   5.0     5.0    1.0  3.0      5.0    5.0     5.0   4.0  4.0   \n",
              "2       5.0   4.0     2.0    5.0  3.0      3.0    3.0     5.0   4.0  5.0   \n",
              "3       4.0   3.0     3.0    3.0  3.0      2.0    3.0     2.0   3.0  2.0   \n",
              "4       5.0   2.0     5.0    4.0  4.0      4.0    NaN     5.0   5.0  5.0   \n",
              "5       1.0   1.0     3.0    1.0  4.0      5.0    1.0     3.0   1.0  3.0   \n",
              "6       4.0   2.0     5.0    3.0  3.0      2.0    1.0     4.0   5.0  3.0   \n",
              "7       3.0   1.0     1.0    2.0  NaN      1.0    0.0     2.0   2.0  2.0   \n",
              "8       3.0   1.0     1.0    4.0  NaN      1.0    0.0     5.0   3.0  1.0   \n",
              "9       5.0   3.0     2.0    5.0  4.0      3.0    4.0     5.0   5.0  4.0   \n",
              "10      5.0   2.0     5.0    4.0  4.0      4.0    4.0     3.0   3.0  4.0   \n",
              "11      5.0   2.0     3.0    5.0  2.0      2.0    3.0     4.0   5.0  4.0   \n",
              "12      5.0   1.0     1.0    1.0  3.0      2.0    1.0     2.0   2.0  2.0   \n",
              "13      3.0   1.0     3.0    1.0  3.0      3.0    3.0     2.0   0.0  3.0   \n",
              "14      5.0   3.0     3.0    3.0  NaN      2.0    1.0     4.0   4.0  2.0   \n",
              "15      5.0   3.0     5.0    2.0  4.0      5.0    4.0     5.0   5.0  5.0   \n",
              "16      1.0   2.0     5.0    2.0  1.0      2.0    2.0     1.0   2.0  2.0   \n",
              "17      4.0   1.0     1.0    1.0  2.0      3.0    3.0     4.0   1.0  1.0   \n",
              "18      3.0   5.0     5.0    5.0  2.0      5.0    4.0     5.0   4.0  5.0   \n",
              "19      2.0   1.0     5.0    1.0  3.0      4.0    3.0     4.0   0.0  5.0   \n",
              "20      NaN   NaN     NaN    NaN  NaN      NaN    NaN     NaN   NaN  NaN   \n",
              "\n",
              "    Jorge   Mac  Arun  Owen  Mario.1  Tracy  anas  Stan  Sean  \n",
              "0     3.0   5.0   5.0   5.0      3.0    5.0   3.0   4.0     5  \n",
              "1     4.0   2.0   2.0   2.0      4.0    3.0   5.0   5.0     5  \n",
              "2     4.0   5.0   NaN   3.0      3.0    4.0   5.0   5.0     5  \n",
              "3     2.0   3.0   3.0   1.0      3.0    4.0   0.0   2.0     5  \n",
              "4     5.0   4.0   4.0   3.0      5.0    4.0   5.0   4.0     5  \n",
              "5     3.0   4.0   NaN   1.0      3.0    4.0   2.0   3.0     0  \n",
              "6     2.0   3.0   3.0   3.0      3.0    4.0   0.0   3.0     5  \n",
              "7     1.0   3.0   NaN   1.0      NaN    2.0   5.0   4.0     5  \n",
              "8     1.0   1.0   5.0   1.0      NaN    4.0   0.0   4.0     0  \n",
              "9     3.0   4.0   NaN   5.0      4.0    3.0   NaN   5.0     5  \n",
              "10    5.0   3.0   NaN   3.0      5.0    2.0   NaN   1.0     5  \n",
              "11    5.0   3.0   NaN   2.0      4.0    2.0   NaN   2.0     5  \n",
              "12    1.0   3.0   NaN   3.0      3.0    5.0   NaN   1.0     0  \n",
              "13    3.0   4.0   NaN   1.0      3.0    3.0   NaN   3.0     5  \n",
              "14    3.0   4.0   NaN   2.0      3.0    4.0   NaN   4.0     0  \n",
              "15    4.0  10.0   NaN   3.0      4.0    5.0   NaN   5.0     5  \n",
              "16    2.0   3.0   NaN   3.0      2.0    4.0   NaN   1.0     0  \n",
              "17    4.0   2.0   1.0   1.0      3.0    5.0   NaN   3.0     0  \n",
              "18    5.0   4.0   4.0   1.0      3.0    4.0   NaN   4.0     5  \n",
              "19    4.0   3.0   NaN   5.0      3.0    2.0   NaN   2.0     5  \n",
              "20    NaN   NaN   NaN   NaN      NaN    NaN   NaN   NaN     5  "
            ]
          },
          "metadata": {
            "tags": []
          },
          "execution_count": 3
        }
      ]
    },
    {
      "cell_type": "code",
      "metadata": {
        "id": "TBeQbcizsslg",
        "colab": {
          "base_uri": "https://localhost:8080/",
          "height": 402
        },
        "outputId": "9ce84703-3116-4b89-dee2-f4587e57665d"
      },
      "source": [
        "df = pd.melt(df, id_vars=['hobby'], value_vars=df.columns[1:])\n",
        "df = df[~df.value.isnull()]\n",
        "df"
      ],
      "execution_count": 4,
      "outputs": [
        {
          "output_type": "execute_result",
          "data": {
            "text/html": [
              "<div>\n",
              "<style scoped>\n",
              "    .dataframe tbody tr th:only-of-type {\n",
              "        vertical-align: middle;\n",
              "    }\n",
              "\n",
              "    .dataframe tbody tr th {\n",
              "        vertical-align: top;\n",
              "    }\n",
              "\n",
              "    .dataframe thead th {\n",
              "        text-align: right;\n",
              "    }\n",
              "</style>\n",
              "<table border=\"1\" class=\"dataframe\">\n",
              "  <thead>\n",
              "    <tr style=\"text-align: right;\">\n",
              "      <th></th>\n",
              "      <th>hobby</th>\n",
              "      <th>variable</th>\n",
              "      <th>value</th>\n",
              "    </tr>\n",
              "  </thead>\n",
              "  <tbody>\n",
              "    <tr>\n",
              "      <th>0</th>\n",
              "      <td>Studying fastai</td>\n",
              "      <td>Dewsy</td>\n",
              "      <td>5.0</td>\n",
              "    </tr>\n",
              "    <tr>\n",
              "      <th>1</th>\n",
              "      <td>Music</td>\n",
              "      <td>Dewsy</td>\n",
              "      <td>5.0</td>\n",
              "    </tr>\n",
              "    <tr>\n",
              "      <th>2</th>\n",
              "      <td>Hiking</td>\n",
              "      <td>Dewsy</td>\n",
              "      <td>5.0</td>\n",
              "    </tr>\n",
              "    <tr>\n",
              "      <th>3</th>\n",
              "      <td>Cooking</td>\n",
              "      <td>Dewsy</td>\n",
              "      <td>4.0</td>\n",
              "    </tr>\n",
              "    <tr>\n",
              "      <th>4</th>\n",
              "      <td>Friends</td>\n",
              "      <td>Dewsy</td>\n",
              "      <td>2.0</td>\n",
              "    </tr>\n",
              "    <tr>\n",
              "      <th>...</th>\n",
              "      <td>...</td>\n",
              "      <td>...</td>\n",
              "      <td>...</td>\n",
              "    </tr>\n",
              "    <tr>\n",
              "      <th>562</th>\n",
              "      <td>Shopping</td>\n",
              "      <td>Sean</td>\n",
              "      <td>0.0</td>\n",
              "    </tr>\n",
              "    <tr>\n",
              "      <th>563</th>\n",
              "      <td>Dancing</td>\n",
              "      <td>Sean</td>\n",
              "      <td>0.0</td>\n",
              "    </tr>\n",
              "    <tr>\n",
              "      <th>564</th>\n",
              "      <td>Sports</td>\n",
              "      <td>Sean</td>\n",
              "      <td>5.0</td>\n",
              "    </tr>\n",
              "    <tr>\n",
              "      <th>565</th>\n",
              "      <td>Computer Games</td>\n",
              "      <td>Sean</td>\n",
              "      <td>5.0</td>\n",
              "    </tr>\n",
              "    <tr>\n",
              "      <th>566</th>\n",
              "      <td>NaN</td>\n",
              "      <td>Sean</td>\n",
              "      <td>5.0</td>\n",
              "    </tr>\n",
              "  </tbody>\n",
              "</table>\n",
              "<p>485 rows × 3 columns</p>\n",
              "</div>"
            ],
            "text/plain": [
              "               hobby variable  value\n",
              "0    Studying fastai    Dewsy    5.0\n",
              "1              Music    Dewsy    5.0\n",
              "2             Hiking    Dewsy    5.0\n",
              "3            Cooking    Dewsy    4.0\n",
              "4            Friends    Dewsy    2.0\n",
              "..               ...      ...    ...\n",
              "562         Shopping     Sean    0.0\n",
              "563          Dancing     Sean    0.0\n",
              "564           Sports     Sean    5.0\n",
              "565   Computer Games     Sean    5.0\n",
              "566              NaN     Sean    5.0\n",
              "\n",
              "[485 rows x 3 columns]"
            ]
          },
          "metadata": {
            "tags": []
          },
          "execution_count": 4
        }
      ]
    },
    {
      "cell_type": "code",
      "metadata": {
        "id": "8-IkBJDNtsv2"
      },
      "source": [
        "ratings = df.rename(columns = {\"value\": \"rating\", \"variable\": \"user\"})\n",
        "ratings = ratings[['user', 'hobby', 'rating']]"
      ],
      "execution_count": 5,
      "outputs": []
    },
    {
      "cell_type": "code",
      "metadata": {
        "id": "ZZPXEJvfvckB",
        "colab": {
          "base_uri": "https://localhost:8080/",
          "height": 195
        },
        "outputId": "bc2179eb-2cab-4b39-c5e0-505ccc791e2c"
      },
      "source": [
        "ratings.head()"
      ],
      "execution_count": 6,
      "outputs": [
        {
          "output_type": "execute_result",
          "data": {
            "text/html": [
              "<div>\n",
              "<style scoped>\n",
              "    .dataframe tbody tr th:only-of-type {\n",
              "        vertical-align: middle;\n",
              "    }\n",
              "\n",
              "    .dataframe tbody tr th {\n",
              "        vertical-align: top;\n",
              "    }\n",
              "\n",
              "    .dataframe thead th {\n",
              "        text-align: right;\n",
              "    }\n",
              "</style>\n",
              "<table border=\"1\" class=\"dataframe\">\n",
              "  <thead>\n",
              "    <tr style=\"text-align: right;\">\n",
              "      <th></th>\n",
              "      <th>user</th>\n",
              "      <th>hobby</th>\n",
              "      <th>rating</th>\n",
              "    </tr>\n",
              "  </thead>\n",
              "  <tbody>\n",
              "    <tr>\n",
              "      <th>0</th>\n",
              "      <td>Dewsy</td>\n",
              "      <td>Studying fastai</td>\n",
              "      <td>5.0</td>\n",
              "    </tr>\n",
              "    <tr>\n",
              "      <th>1</th>\n",
              "      <td>Dewsy</td>\n",
              "      <td>Music</td>\n",
              "      <td>5.0</td>\n",
              "    </tr>\n",
              "    <tr>\n",
              "      <th>2</th>\n",
              "      <td>Dewsy</td>\n",
              "      <td>Hiking</td>\n",
              "      <td>5.0</td>\n",
              "    </tr>\n",
              "    <tr>\n",
              "      <th>3</th>\n",
              "      <td>Dewsy</td>\n",
              "      <td>Cooking</td>\n",
              "      <td>4.0</td>\n",
              "    </tr>\n",
              "    <tr>\n",
              "      <th>4</th>\n",
              "      <td>Dewsy</td>\n",
              "      <td>Friends</td>\n",
              "      <td>2.0</td>\n",
              "    </tr>\n",
              "  </tbody>\n",
              "</table>\n",
              "</div>"
            ],
            "text/plain": [
              "    user            hobby  rating\n",
              "0  Dewsy  Studying fastai     5.0\n",
              "1  Dewsy            Music     5.0\n",
              "2  Dewsy           Hiking     5.0\n",
              "3  Dewsy          Cooking     4.0\n",
              "4  Dewsy          Friends     2.0"
            ]
          },
          "metadata": {
            "tags": []
          },
          "execution_count": 6
        }
      ]
    },
    {
      "cell_type": "markdown",
      "metadata": {
        "id": "si-aqnnR7n7j"
      },
      "source": [
        "##Question 1##\n",
        "Use the documentation of CollabDataLoaders to complete the code below, use 'hobby' as the item name and a batch size of 10 https://docs.fast.ai/collab.html#CollabDataLoaders.from_df\n"
      ]
    },
    {
      "cell_type": "code",
      "metadata": {
        "id": "gbHKwJT86WY1"
      },
      "source": [
        "dls = CollabDataLoaders.from_df(ratings, item_name='hobby', bs=10)\n"
      ],
      "execution_count": 7,
      "outputs": []
    },
    {
      "cell_type": "code",
      "metadata": {
        "id": "trO_z6ILMmBF",
        "colab": {
          "base_uri": "https://localhost:8080/"
        },
        "outputId": "ea9e42aa-8c0d-4f2a-e0db-2403b4fde444"
      },
      "source": [
        "x, y = dls.one_batch()\n",
        "x, y"
      ],
      "execution_count": 8,
      "outputs": [
        {
          "output_type": "execute_result",
          "data": {
            "text/plain": [
              "(tensor([[18, 10],\n",
              "         [ 5,  5],\n",
              "         [10, 20],\n",
              "         [15,  6],\n",
              "         [ 3, 15],\n",
              "         [27, 10],\n",
              "         [19, 19],\n",
              "         [19,  5],\n",
              "         [21,  0],\n",
              "         [ 4, 20]]), tensor([[2.],\n",
              "         [1.],\n",
              "         [1.],\n",
              "         [3.],\n",
              "         [5.],\n",
              "         [5.],\n",
              "         [5.],\n",
              "         [4.],\n",
              "         [5.],\n",
              "         [1.]]))"
            ]
          },
          "metadata": {
            "tags": []
          },
          "execution_count": 8
        }
      ]
    },
    {
      "cell_type": "markdown",
      "metadata": {
        "id": "0kSHTEJ2s2s2"
      },
      "source": [
        "b. (Optional) Can you rearrange the ```ratings``` dataframe into this form https://pbpython.com/pandas-crosstab.html ![](https://drive.google.com/uc?export=view&id=1nTAwITd33VXvYPszak8DUqT7-3Q_ElcU)\n"
      ]
    },
    {
      "cell_type": "code",
      "metadata": {
        "id": "JfpQY59wnFOQ"
      },
      "source": [
        "??"
      ],
      "execution_count": null,
      "outputs": []
    },
    {
      "cell_type": "markdown",
      "metadata": {
        "id": "-EGdExMYtCOf"
      },
      "source": [
        "c. How sparse is this matrix? (i.e: the number of ratings divided by all possible user-movie combinations)"
      ]
    },
    {
      "cell_type": "code",
      "metadata": {
        "id": "bSjm_CqntDLc",
        "colab": {
          "base_uri": "https://localhost:8080/"
        },
        "outputId": "6f518f0b-da1a-4e3c-f158-47a22bf9d90c"
      },
      "source": [
        "ct = pd.crosstab(ratings.user, ratings.hobby)\n",
        "ratings.shape[0] / (ct.shape[0] * ct.shape[1] )\n"
      ],
      "execution_count": 9,
      "outputs": [
        {
          "output_type": "execute_result",
          "data": {
            "text/plain": [
              "0.8981481481481481"
            ]
          },
          "metadata": {
            "tags": []
          },
          "execution_count": 9
        }
      ]
    },
    {
      "cell_type": "markdown",
      "metadata": {
        "id": "-3s9UfBW8FW3"
      },
      "source": [
        "## Question 2## \n",
        "a. The step below defines the model and creates the embedding matrices for users and movies. Please fill in the correct dimensions of the matrices. "
      ]
    },
    {
      "cell_type": "markdown",
      "metadata": {
        "id": "Ch70GFJA8r8b"
      },
      "source": [
        "b. \n",
        "Can you explain what is happening in these steps? \n",
        "\n",
        "```\n",
        "     def forward(self, x):\n",
        "        users = self.user_factors(x[:,0])\n",
        "        movies = self.movie_factors(x[:,1])\n",
        "        res = (users * movies).sum(dim=1, keepdim=True)\n",
        "        res += self.user_bias(x[:,0]) + self.movie_bias(x[:,1])\n",
        "        return sigmoid_range(res, *self.y_range)\n",
        "```"
      ]
    },
    {
      "cell_type": "markdown",
      "metadata": {
        "id": "Fe0pX6MjB02r"
      },
      "source": [
        "c. What's the meaning of ```y_range=(0,5.5)``` and why do we want that constraint?"
      ]
    },
    {
      "cell_type": "markdown",
      "metadata": {
        "id": "8rMPqlk5TRNr"
      },
      "source": [
        "d. Why do we use ```MSELossFlat()``` as the loss function instead of cross entropy?"
      ]
    },
    {
      "cell_type": "code",
      "metadata": {
        "id": "sdVEd7kY6bAc"
      },
      "source": [
        "class DotProductBias(Module):\n",
        "    def __init__(self, n_users, n_movies, n_factors, y_range=(0,10)):\n",
        "        self.user_factors = Embedding(n_users, n_factors)\n",
        "        self.user_bias = Embedding(n_users, 1)\n",
        "        self.movie_factors = Embedding(n_movies, n_factors)\n",
        "        self.movie_bias = Embedding(n_movies, 1)\n",
        "        self.y_range = y_range\n",
        "        \n",
        "    def forward(self, x):\n",
        "        users = self.user_factors(x[:,0])\n",
        "        movies = self.movie_factors(x[:,1])\n",
        "        res = (users * movies).sum(dim=1, keepdim=True)\n",
        "        res += self.user_bias(x[:,0]) + self.movie_bias(x[:,1])\n",
        "        return sigmoid_range(res, *self.y_range)"
      ],
      "execution_count": 15,
      "outputs": []
    },
    {
      "cell_type": "code",
      "metadata": {
        "colab": {
          "base_uri": "https://localhost:8080/"
        },
        "id": "5bsEDek_HQju",
        "outputId": "f8b8700a-c9ff-4a5b-d6dc-650d98a4d7fd"
      },
      "source": [
        "len(dls.classes['user'])"
      ],
      "execution_count": 13,
      "outputs": [
        {
          "output_type": "execute_result",
          "data": {
            "text/plain": [
              "28"
            ]
          },
          "metadata": {
            "tags": []
          },
          "execution_count": 13
        }
      ]
    },
    {
      "cell_type": "code",
      "metadata": {
        "colab": {
          "base_uri": "https://localhost:8080/"
        },
        "id": "WvH5ShmEHVKG",
        "outputId": "1e9ab2a1-8f88-4cc5-e949-dd1f854958a7"
      },
      "source": [
        "len(dls.classes['hobby'])"
      ],
      "execution_count": 14,
      "outputs": [
        {
          "output_type": "execute_result",
          "data": {
            "text/plain": [
              "21"
            ]
          },
          "metadata": {
            "tags": []
          },
          "execution_count": 14
        }
      ]
    },
    {
      "cell_type": "code",
      "metadata": {
        "id": "grf71Lfy6cfX"
      },
      "source": [
        "model = DotProductBias(28, 21, 5)\n",
        "learn = Learner(dls, model, loss_func=MSELossFlat())"
      ],
      "execution_count": 16,
      "outputs": []
    },
    {
      "cell_type": "code",
      "metadata": {
        "id": "d9_yMIeg6d6m",
        "colab": {
          "base_uri": "https://localhost:8080/",
          "height": 935
        },
        "outputId": "5e869c78-5156-4250-ce47-f3f97cb9c17c"
      },
      "source": [
        "learn.fit_one_cycle(30, 5e-3)"
      ],
      "execution_count": 18,
      "outputs": [
        {
          "output_type": "display_data",
          "data": {
            "text/html": [
              "<table border=\"1\" class=\"dataframe\">\n",
              "  <thead>\n",
              "    <tr style=\"text-align: left;\">\n",
              "      <th>epoch</th>\n",
              "      <th>train_loss</th>\n",
              "      <th>valid_loss</th>\n",
              "      <th>time</th>\n",
              "    </tr>\n",
              "  </thead>\n",
              "  <tbody>\n",
              "    <tr>\n",
              "      <td>0</td>\n",
              "      <td>3.263874</td>\n",
              "      <td>3.695676</td>\n",
              "      <td>00:00</td>\n",
              "    </tr>\n",
              "    <tr>\n",
              "      <td>1</td>\n",
              "      <td>3.152653</td>\n",
              "      <td>3.518137</td>\n",
              "      <td>00:00</td>\n",
              "    </tr>\n",
              "    <tr>\n",
              "      <td>2</td>\n",
              "      <td>3.008676</td>\n",
              "      <td>3.178456</td>\n",
              "      <td>00:00</td>\n",
              "    </tr>\n",
              "    <tr>\n",
              "      <td>3</td>\n",
              "      <td>2.763755</td>\n",
              "      <td>2.718816</td>\n",
              "      <td>00:00</td>\n",
              "    </tr>\n",
              "    <tr>\n",
              "      <td>4</td>\n",
              "      <td>2.319487</td>\n",
              "      <td>2.291713</td>\n",
              "      <td>00:00</td>\n",
              "    </tr>\n",
              "    <tr>\n",
              "      <td>5</td>\n",
              "      <td>1.904882</td>\n",
              "      <td>2.030226</td>\n",
              "      <td>00:00</td>\n",
              "    </tr>\n",
              "    <tr>\n",
              "      <td>6</td>\n",
              "      <td>1.645031</td>\n",
              "      <td>1.951498</td>\n",
              "      <td>00:00</td>\n",
              "    </tr>\n",
              "    <tr>\n",
              "      <td>7</td>\n",
              "      <td>1.499374</td>\n",
              "      <td>1.952525</td>\n",
              "      <td>00:00</td>\n",
              "    </tr>\n",
              "    <tr>\n",
              "      <td>8</td>\n",
              "      <td>1.380963</td>\n",
              "      <td>1.928522</td>\n",
              "      <td>00:00</td>\n",
              "    </tr>\n",
              "    <tr>\n",
              "      <td>9</td>\n",
              "      <td>1.310223</td>\n",
              "      <td>1.952591</td>\n",
              "      <td>00:00</td>\n",
              "    </tr>\n",
              "    <tr>\n",
              "      <td>10</td>\n",
              "      <td>1.290506</td>\n",
              "      <td>1.960757</td>\n",
              "      <td>00:00</td>\n",
              "    </tr>\n",
              "    <tr>\n",
              "      <td>11</td>\n",
              "      <td>1.197706</td>\n",
              "      <td>1.984509</td>\n",
              "      <td>00:00</td>\n",
              "    </tr>\n",
              "    <tr>\n",
              "      <td>12</td>\n",
              "      <td>1.186282</td>\n",
              "      <td>1.993727</td>\n",
              "      <td>00:00</td>\n",
              "    </tr>\n",
              "    <tr>\n",
              "      <td>13</td>\n",
              "      <td>1.161096</td>\n",
              "      <td>1.977641</td>\n",
              "      <td>00:00</td>\n",
              "    </tr>\n",
              "    <tr>\n",
              "      <td>14</td>\n",
              "      <td>1.132707</td>\n",
              "      <td>1.994534</td>\n",
              "      <td>00:00</td>\n",
              "    </tr>\n",
              "    <tr>\n",
              "      <td>15</td>\n",
              "      <td>1.093002</td>\n",
              "      <td>1.963699</td>\n",
              "      <td>00:00</td>\n",
              "    </tr>\n",
              "    <tr>\n",
              "      <td>16</td>\n",
              "      <td>1.086264</td>\n",
              "      <td>1.972786</td>\n",
              "      <td>00:00</td>\n",
              "    </tr>\n",
              "    <tr>\n",
              "      <td>17</td>\n",
              "      <td>1.061155</td>\n",
              "      <td>1.977729</td>\n",
              "      <td>00:00</td>\n",
              "    </tr>\n",
              "    <tr>\n",
              "      <td>18</td>\n",
              "      <td>1.049019</td>\n",
              "      <td>1.964231</td>\n",
              "      <td>00:00</td>\n",
              "    </tr>\n",
              "    <tr>\n",
              "      <td>19</td>\n",
              "      <td>1.026890</td>\n",
              "      <td>1.949994</td>\n",
              "      <td>00:00</td>\n",
              "    </tr>\n",
              "    <tr>\n",
              "      <td>20</td>\n",
              "      <td>0.983011</td>\n",
              "      <td>1.959914</td>\n",
              "      <td>00:00</td>\n",
              "    </tr>\n",
              "    <tr>\n",
              "      <td>21</td>\n",
              "      <td>0.965235</td>\n",
              "      <td>1.948418</td>\n",
              "      <td>00:00</td>\n",
              "    </tr>\n",
              "    <tr>\n",
              "      <td>22</td>\n",
              "      <td>0.948127</td>\n",
              "      <td>1.947184</td>\n",
              "      <td>00:00</td>\n",
              "    </tr>\n",
              "    <tr>\n",
              "      <td>23</td>\n",
              "      <td>0.920795</td>\n",
              "      <td>1.941702</td>\n",
              "      <td>00:00</td>\n",
              "    </tr>\n",
              "    <tr>\n",
              "      <td>24</td>\n",
              "      <td>0.896531</td>\n",
              "      <td>1.937329</td>\n",
              "      <td>00:00</td>\n",
              "    </tr>\n",
              "    <tr>\n",
              "      <td>25</td>\n",
              "      <td>0.905604</td>\n",
              "      <td>1.934809</td>\n",
              "      <td>00:00</td>\n",
              "    </tr>\n",
              "    <tr>\n",
              "      <td>26</td>\n",
              "      <td>0.904598</td>\n",
              "      <td>1.934582</td>\n",
              "      <td>00:00</td>\n",
              "    </tr>\n",
              "    <tr>\n",
              "      <td>27</td>\n",
              "      <td>0.892321</td>\n",
              "      <td>1.933713</td>\n",
              "      <td>00:00</td>\n",
              "    </tr>\n",
              "    <tr>\n",
              "      <td>28</td>\n",
              "      <td>0.890921</td>\n",
              "      <td>1.933485</td>\n",
              "      <td>00:00</td>\n",
              "    </tr>\n",
              "    <tr>\n",
              "      <td>29</td>\n",
              "      <td>0.875187</td>\n",
              "      <td>1.933432</td>\n",
              "      <td>00:00</td>\n",
              "    </tr>\n",
              "  </tbody>\n",
              "</table>"
            ],
            "text/plain": [
              "<IPython.core.display.HTML object>"
            ]
          },
          "metadata": {
            "tags": []
          }
        }
      ]
    },
    {
      "cell_type": "code",
      "metadata": {
        "id": "6qvqo54LG2is",
        "colab": {
          "base_uri": "https://localhost:8080/"
        },
        "outputId": "f35cba05-001c-4b53-e1ca-7fb5edcd6fe8"
      },
      "source": [
        "def count_parameters(model):\n",
        "    return sum(p.numel() for p in model.parameters() if p.requires_grad)\n",
        "count_parameters(model)"
      ],
      "execution_count": 19,
      "outputs": [
        {
          "output_type": "execute_result",
          "data": {
            "text/plain": [
              "294"
            ]
          },
          "metadata": {
            "tags": []
          },
          "execution_count": 19
        }
      ]
    },
    {
      "cell_type": "markdown",
      "metadata": {
        "id": "5g_p0FkU9vmv"
      },
      "source": [
        "## Question 3##\n",
        "Can you get one batch of data from dls and show the output of the model?"
      ]
    },
    {
      "cell_type": "code",
      "metadata": {
        "id": "06V8uR2o6hm_"
      },
      "source": [
        "x,y = ??\n",
        "activs = ??\n",
        "activs"
      ],
      "execution_count": null,
      "outputs": []
    },
    {
      "cell_type": "markdown",
      "metadata": {
        "id": "HWBZ3H8hBbxQ"
      },
      "source": [
        "## Question 4 (Optional)##\n",
        "```movie_bias``` captures the inherent popularity of the movies. Can you display the top 5 most popular titles?"
      ]
    },
    {
      "cell_type": "code",
      "metadata": {
        "id": "PyXTOFU56jMr"
      },
      "source": [
        "movie_bias = ??\n",
        "idxs = movie_bias.argsort()[:5]\n",
        "[dls.classes['hobby'][i] for i in idxs]"
      ],
      "execution_count": null,
      "outputs": []
    },
    {
      "cell_type": "markdown",
      "metadata": {
        "id": "y2e0bhmwDVeW"
      },
      "source": [
        "Pick two random students and can you find how similar they are?"
      ]
    },
    {
      "cell_type": "code",
      "metadata": {
        "id": "yr5Wv1COBCFw"
      },
      "source": [
        "# Find index of user\n",
        "id1 = np.where(np.array(dls.classes['user'])=='X')[0][0]\n",
        "id2 = np.where(np.array(dls.classes['user'])=='Y')[0][0]"
      ],
      "execution_count": null,
      "outputs": []
    },
    {
      "cell_type": "code",
      "metadata": {
        "id": "D5KsyKE69yqi"
      },
      "source": [
        "np.corrcoef(model.user_factors.weight[id1].detach().numpy(), model.user_factors.weight[id2].detach().numpy())"
      ],
      "execution_count": null,
      "outputs": []
    },
    {
      "cell_type": "markdown",
      "metadata": {
        "id": "0Xo2pAoWAyRe"
      },
      "source": [
        "## Question 5##\n",
        "a. What are the arguments user_sz and item_sz in the model below?\n",
        "\n",
        "b. Why is the dimension of the linear layer ```nn.Linear(user_sz[1]+item_sz[1], n_act)```?\n",
        "\n",
        "c. What happens in the forward pass?\n"
      ]
    },
    {
      "cell_type": "code",
      "metadata": {
        "id": "6J8aQszc6qls"
      },
      "source": [
        "class CollabNN(Module):\n",
        "    def __init__(self, user_sz, item_sz, y_range=(0,5.5), n_act=100):\n",
        "        self.user_factors = Embedding(*user_sz)\n",
        "        self.item_factors = Embedding(*item_sz)\n",
        "        self.layers = nn.Sequential(\n",
        "            nn.Linear(user_sz[1]+item_sz[1], n_act),\n",
        "            nn.ReLU(),\n",
        "            nn.Linear(n_act, 1))\n",
        "        self.y_range = y_range\n",
        "        \n",
        "    def forward(self, x):\n",
        "        embs = self.user_factors(x[:,0]),self.item_factors(x[:,1])\n",
        "        x = self.layers(torch.cat(embs, dim=1))\n",
        "        return sigmoid_range(x, *self.y_range)"
      ],
      "execution_count": 20,
      "outputs": []
    },
    {
      "cell_type": "markdown",
      "metadata": {
        "id": "b3KxwD1PCNGp"
      },
      "source": [
        "## Question 6##\n",
        "Based on fastai documentation, what does this step ```embs = get_emb_sz(dls)``` do? "
      ]
    },
    {
      "cell_type": "code",
      "metadata": {
        "id": "iR7LggeG6sCa"
      },
      "source": [
        "embs = get_emb_sz(dls)\n",
        "model = CollabNN(*embs)"
      ],
      "execution_count": 21,
      "outputs": []
    },
    {
      "cell_type": "code",
      "metadata": {
        "id": "T-rYDctkKzzr",
        "colab": {
          "base_uri": "https://localhost:8080/"
        },
        "outputId": "896b6a87-90b7-4f0a-c4ab-6f1a51ce4683"
      },
      "source": [
        "embs"
      ],
      "execution_count": 22,
      "outputs": [
        {
          "output_type": "execute_result",
          "data": {
            "text/plain": [
              "[(28, 10), (21, 9)]"
            ]
          },
          "metadata": {
            "tags": []
          },
          "execution_count": 22
        }
      ]
    },
    {
      "cell_type": "code",
      "metadata": {
        "id": "BmDSRb516tuy",
        "colab": {
          "base_uri": "https://localhost:8080/",
          "height": 195
        },
        "outputId": "ed7108a2-c02d-4abd-afed-d36e39d86287"
      },
      "source": [
        "learn = Learner(dls, model, loss_func=MSELossFlat())\n",
        "learn.fit_one_cycle(5, 5e-3, wd=0.01)"
      ],
      "execution_count": 23,
      "outputs": [
        {
          "output_type": "display_data",
          "data": {
            "text/html": [
              "<table border=\"1\" class=\"dataframe\">\n",
              "  <thead>\n",
              "    <tr style=\"text-align: left;\">\n",
              "      <th>epoch</th>\n",
              "      <th>train_loss</th>\n",
              "      <th>valid_loss</th>\n",
              "      <th>time</th>\n",
              "    </tr>\n",
              "  </thead>\n",
              "  <tbody>\n",
              "    <tr>\n",
              "      <td>0</td>\n",
              "      <td>2.379022</td>\n",
              "      <td>2.180662</td>\n",
              "      <td>00:00</td>\n",
              "    </tr>\n",
              "    <tr>\n",
              "      <td>1</td>\n",
              "      <td>1.957845</td>\n",
              "      <td>1.797243</td>\n",
              "      <td>00:00</td>\n",
              "    </tr>\n",
              "    <tr>\n",
              "      <td>2</td>\n",
              "      <td>1.636388</td>\n",
              "      <td>1.874316</td>\n",
              "      <td>00:00</td>\n",
              "    </tr>\n",
              "    <tr>\n",
              "      <td>3</td>\n",
              "      <td>1.455798</td>\n",
              "      <td>1.895532</td>\n",
              "      <td>00:00</td>\n",
              "    </tr>\n",
              "    <tr>\n",
              "      <td>4</td>\n",
              "      <td>1.369340</td>\n",
              "      <td>1.881660</td>\n",
              "      <td>00:00</td>\n",
              "    </tr>\n",
              "  </tbody>\n",
              "</table>"
            ],
            "text/plain": [
              "<IPython.core.display.HTML object>"
            ]
          },
          "metadata": {
            "tags": []
          }
        }
      ]
    },
    {
      "cell_type": "markdown",
      "metadata": {
        "id": "9phpQ08fCbP2"
      },
      "source": [
        "## Collaborative filtering the fastai way ##"
      ]
    },
    {
      "cell_type": "markdown",
      "metadata": {
        "id": "OqGIthBMDdRO"
      },
      "source": [
        "## Question 7##\n",
        "a. What does n_factors mean?"
      ]
    },
    {
      "cell_type": "code",
      "metadata": {
        "id": "pKzHK1Pm6k4s"
      },
      "source": [
        "learn = collab_learner(dls, n_factors=5, y_range=(0, 4))\n",
        "learn.fit_one_cycle(3, 5e-3, wd=0.1)"
      ],
      "execution_count": null,
      "outputs": []
    },
    {
      "cell_type": "markdown",
      "metadata": {
        "id": "t63uQIRrDmcU"
      },
      "source": [
        "b. Can you define a model with 3 hidden layers with 50,20 nodes. What is the number of parameters in your model?"
      ]
    },
    {
      "cell_type": "code",
      "metadata": {
        "id": "ubzGg6G66vLy",
        "colab": {
          "base_uri": "https://localhost:8080/",
          "height": 136
        },
        "outputId": "c222be07-02c8-4b1c-ea81-9df1a91ba6d7"
      },
      "source": [
        "learn = collab_learner(dls, use_nn=True, y_range=(0, 5.5), layers = [50,20])\n",
        "learn.fit_one_cycle(3, 5e-3, wd=0.1)"
      ],
      "execution_count": 24,
      "outputs": [
        {
          "output_type": "display_data",
          "data": {
            "text/html": [
              "<table border=\"1\" class=\"dataframe\">\n",
              "  <thead>\n",
              "    <tr style=\"text-align: left;\">\n",
              "      <th>epoch</th>\n",
              "      <th>train_loss</th>\n",
              "      <th>valid_loss</th>\n",
              "      <th>time</th>\n",
              "    </tr>\n",
              "  </thead>\n",
              "  <tbody>\n",
              "    <tr>\n",
              "      <td>0</td>\n",
              "      <td>2.174516</td>\n",
              "      <td>2.203843</td>\n",
              "      <td>00:00</td>\n",
              "    </tr>\n",
              "    <tr>\n",
              "      <td>1</td>\n",
              "      <td>1.793104</td>\n",
              "      <td>1.811725</td>\n",
              "      <td>00:00</td>\n",
              "    </tr>\n",
              "    <tr>\n",
              "      <td>2</td>\n",
              "      <td>1.544921</td>\n",
              "      <td>1.856255</td>\n",
              "      <td>00:00</td>\n",
              "    </tr>\n",
              "  </tbody>\n",
              "</table>"
            ],
            "text/plain": [
              "<IPython.core.display.HTML object>"
            ]
          },
          "metadata": {
            "tags": []
          }
        }
      ]
    },
    {
      "cell_type": "code",
      "metadata": {
        "colab": {
          "base_uri": "https://localhost:8080/"
        },
        "id": "Qf5bLvAtK-pE",
        "outputId": "18424b75-3b75-47c3-cbf8-536197b22bde"
      },
      "source": [
        "learn.model"
      ],
      "execution_count": 25,
      "outputs": [
        {
          "output_type": "execute_result",
          "data": {
            "text/plain": [
              "EmbeddingNN(\n",
              "  (embeds): ModuleList(\n",
              "    (0): Embedding(28, 10)\n",
              "    (1): Embedding(21, 9)\n",
              "  )\n",
              "  (emb_drop): Dropout(p=0.0, inplace=False)\n",
              "  (bn_cont): BatchNorm1d(0, eps=1e-05, momentum=0.1, affine=True, track_running_stats=True)\n",
              "  (layers): Sequential(\n",
              "    (0): LinBnDrop(\n",
              "      (0): Linear(in_features=19, out_features=50, bias=False)\n",
              "      (1): ReLU(inplace=True)\n",
              "      (2): BatchNorm1d(50, eps=1e-05, momentum=0.1, affine=True, track_running_stats=True)\n",
              "    )\n",
              "    (1): LinBnDrop(\n",
              "      (0): Linear(in_features=50, out_features=20, bias=False)\n",
              "      (1): ReLU(inplace=True)\n",
              "      (2): BatchNorm1d(20, eps=1e-05, momentum=0.1, affine=True, track_running_stats=True)\n",
              "    )\n",
              "    (2): LinBnDrop(\n",
              "      (0): Linear(in_features=20, out_features=1, bias=True)\n",
              "    )\n",
              "    (3): SigmoidRange(low=0, high=5.5)\n",
              "  )\n",
              ")"
            ]
          },
          "metadata": {
            "tags": []
          },
          "execution_count": 25
        }
      ]
    },
    {
      "cell_type": "code",
      "metadata": {
        "id": "VE9nT4zPK_h1",
        "colab": {
          "base_uri": "https://localhost:8080/"
        },
        "outputId": "65456b22-972f-40c7-b5c2-b4f7e815baa1"
      },
      "source": [
        "count_parameters(learn.model)"
      ],
      "execution_count": 26,
      "outputs": [
        {
          "output_type": "execute_result",
          "data": {
            "text/plain": [
              "2580"
            ]
          },
          "metadata": {
            "tags": []
          },
          "execution_count": 26
        }
      ]
    },
    {
      "cell_type": "code",
      "metadata": {
        "colab": {
          "base_uri": "https://localhost:8080/"
        },
        "id": "i4S1IHgxNvcK",
        "outputId": "e97ca239-ca27-4c79-bc2c-2ad16a4e8482"
      },
      "source": [
        "from prettytable import PrettyTable\n",
        "\n",
        "def count_parameters(model):\n",
        "    table = PrettyTable([\"Modules\", \"Parameters\"])\n",
        "    total_params = 0\n",
        "    for name, parameter in model.named_parameters():\n",
        "        if not parameter.requires_grad: continue\n",
        "        param = parameter.numel()\n",
        "        table.add_row([name, param])\n",
        "        total_params+=param\n",
        "    print(table)\n",
        "    print(f\"Total Trainable Params: {total_params}\")\n",
        "    return total_params\n",
        "    \n",
        "count_parameters(learn.model)"
      ],
      "execution_count": 27,
      "outputs": [
        {
          "output_type": "stream",
          "text": [
            "+-------------------+------------+\n",
            "|      Modules      | Parameters |\n",
            "+-------------------+------------+\n",
            "|  embeds.0.weight  |    280     |\n",
            "|  embeds.1.weight  |    189     |\n",
            "|   bn_cont.weight  |     0      |\n",
            "|    bn_cont.bias   |     0      |\n",
            "| layers.0.0.weight |    950     |\n",
            "| layers.0.2.weight |     50     |\n",
            "|  layers.0.2.bias  |     50     |\n",
            "| layers.1.0.weight |    1000    |\n",
            "| layers.1.2.weight |     20     |\n",
            "|  layers.1.2.bias  |     20     |\n",
            "| layers.2.0.weight |     20     |\n",
            "|  layers.2.0.bias  |     1      |\n",
            "+-------------------+------------+\n",
            "Total Trainable Params: 2580\n"
          ],
          "name": "stdout"
        },
        {
          "output_type": "execute_result",
          "data": {
            "text/plain": [
              "2580"
            ]
          },
          "metadata": {
            "tags": []
          },
          "execution_count": 27
        }
      ]
    },
    {
      "cell_type": "code",
      "metadata": {
        "colab": {
          "base_uri": "https://localhost:8080/"
        },
        "id": "O4ZEDaFWPZ49",
        "outputId": "87b0d55a-c3fb-4acf-9ced-40e02beddd87"
      },
      "source": [
        "28*10+21*9+0+0+19*50+50*2+20*50+20*2+20+1"
      ],
      "execution_count": 28,
      "outputs": [
        {
          "output_type": "execute_result",
          "data": {
            "text/plain": [
              "2580"
            ]
          },
          "metadata": {
            "tags": []
          },
          "execution_count": 28
        }
      ]
    },
    {
      "cell_type": "markdown",
      "metadata": {
        "id": "g7qtHs7uvt7l"
      },
      "source": [
        "## Classification task ##"
      ]
    },
    {
      "cell_type": "markdown",
      "metadata": {
        "id": "5MYuYo2DsfHR"
      },
      "source": [
        "## Question 8 (hard/optional but you'll learn a great deal from doing it)\n",
        "a. If we want to turn this regression task into a classification task using the CollabNN model above, what changes do we have to make?\n",
        "\n",
        "b. Can you implement it yourself? What do you observe about the training of this new model? "
      ]
    },
    {
      "cell_type": "code",
      "metadata": {
        "id": "yjuEZPnOUinL"
      },
      "source": [
        "class CollabNN(Module):\n",
        "    def __init__(self, user_sz, item_sz, n_act=100):\n",
        "        self.user_factors = Embedding(*user_sz)\n",
        "        self.item_factors = Embedding(*item_sz)\n",
        "        self.layers = nn.Sequential(\n",
        "            nn.Linear(user_sz[1]+item_sz[1], n_act),\n",
        "            nn.ReLU(),\n",
        "            nn.Linear(n_act, 5))\n",
        "        \n",
        "    def forward(self, x):\n",
        "        embs = self.user_factors(x[:,0]),self.item_factors(x[:,1])\n",
        "        x = self.layers(torch.cat(embs, dim=1))        \n",
        "        return torch.exp(x) / torch.exp(x).sum(dim=1, keepdim = True)"
      ],
      "execution_count": null,
      "outputs": []
    },
    {
      "cell_type": "code",
      "metadata": {
        "id": "N6_-C5pcP0qo"
      },
      "source": [
        "def get_x(df): \n",
        "  return np.hstack(df[['user', 'movie']].values)\n",
        "\n",
        "def get_y(df): return df['rating']-1\n",
        "\n",
        "dblock = DataBlock(get_x=get_x, \n",
        "                   get_y=get_y)\n",
        "\n",
        "dsets = dblock.datasets(ratings)\n",
        "dsets.train[0]"
      ],
      "execution_count": null,
      "outputs": []
    },
    {
      "cell_type": "code",
      "metadata": {
        "id": "JxpMsas9P2zt"
      },
      "source": [
        "dls = dblock.dataloaders(ratings, bs = 5)"
      ],
      "execution_count": null,
      "outputs": []
    },
    {
      "cell_type": "code",
      "metadata": {
        "id": "o0M48sBeP4m-"
      },
      "source": [
        "model = CollabNN((944, 10), (1683, 20))"
      ],
      "execution_count": null,
      "outputs": []
    },
    {
      "cell_type": "code",
      "metadata": {
        "id": "4OyqTRW-P6E_"
      },
      "source": [
        "learn = Learner(dls, model, loss_func=CrossEntropyLossFlat(), metrics = accuracy)\n",
        "learn.fit_one_cycle(1, 5e-3, wd=0.01)"
      ],
      "execution_count": null,
      "outputs": []
    }
  ]
}